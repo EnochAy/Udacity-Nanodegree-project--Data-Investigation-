{
 "cells": [
  {
   "cell_type": "markdown",
   "metadata": {},
   "source": [
    "Project Steps Overview\n",
    "Your tasks in this project are as follows:\n",
    "\n",
    "Step 1: Gathering data\n",
    "\n",
    "Step 2: Assessing data\n",
    "\n",
    "Step 3: Cleaning data\n",
    "\n",
    "Step 4: Storing data\n",
    "\n",
    "Step 5: Analyzing, and visualizing data\n",
    "\n",
    "Step 6: Reporting\n",
    "\n",
    "your data wrangling efforts\n",
    "your data analyses and visualizations"
   ]
  },
  {
   "cell_type": "code",
   "execution_count": 1,
   "metadata": {},
   "outputs": [],
   "source": [
    "# Importing necessary libraries\n",
    "import numpy as np\n",
    "import pandas as pd\n",
    "import json\n",
    "import requests as rs\n",
    "import tweepy as ty\n"
   ]
  },
  {
   "cell_type": "code",
   "execution_count": null,
   "metadata": {},
   "outputs": [],
   "source": [
    "import os\n",
    "import pandas as pd\n",
    "from datetime import date"
   ]
  }
 ],
 "metadata": {
  "interpreter": {
   "hash": "26de051ba29f2982a8de78e945f0abaf191376122a1563185a90213a26c5da77"
  },
  "kernelspec": {
   "display_name": "Python 3.10.2 64-bit",
   "language": "python",
   "name": "python3"
  },
  "language_info": {
   "codemirror_mode": {
    "name": "ipython",
    "version": 3
   },
   "file_extension": ".py",
   "mimetype": "text/x-python",
   "name": "python",
   "nbconvert_exporter": "python",
   "pygments_lexer": "ipython3",
   "version": "3.10.2"
  },
  "orig_nbformat": 4
 },
 "nbformat": 4,
 "nbformat_minor": 2
}
